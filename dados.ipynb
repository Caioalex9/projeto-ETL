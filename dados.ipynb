{
 "cells": [
  {
   "cell_type": "markdown",
   "id": "7d099fe9",
   "metadata": {},
   "source": [
    "# IMPORTAÇÕES\n",
    "\n"
   ]
  },
  {
   "cell_type": "code",
   "execution_count": 14,
   "id": "83beed30",
   "metadata": {},
   "outputs": [],
   "source": [
    "import requests\n",
    "import pandas as pd"
   ]
  },
  {
   "cell_type": "markdown",
   "id": "3af8ba90",
   "metadata": {},
   "source": [
    "# Requisição da API (DADOS BRUTOS)"
   ]
  },
  {
   "cell_type": "markdown",
   "id": "ebc9c310",
   "metadata": {},
   "source": [
    "## Users\n"
   ]
  },
  {
   "cell_type": "code",
   "execution_count": 18,
   "id": "46968b6f",
   "metadata": {},
   "outputs": [
    {
     "name": "stdout",
     "output_type": "stream",
     "text": [
      "[{'address': {'geolocation': {'lat': '-37.3159', 'long': '81.1496'}, 'city': 'kilcoole', 'street': 'new road', 'number': 7682, 'zipcode': '12926-3874'}, 'id': 1, 'email': 'john@gmail.com', 'username': 'johnd', 'password': 'm38rmF$', 'name': {'firstname': 'john', 'lastname': 'doe'}, 'phone': '1-570-236-7033', '__v': 0}, {'address': {'geolocation': {'lat': '-37.3159', 'long': '81.1496'}, 'city': 'kilcoole', 'street': 'Lovers Ln', 'number': 7267, 'zipcode': '12926-3874'}, 'id': 2, 'email': 'morrison@gmail.com', 'username': 'mor_2314', 'password': '83r5^_', 'name': {'firstname': 'david', 'lastname': 'morrison'}, 'phone': '1-570-236-7033', '__v': 0}, {'address': {'geolocation': {'lat': '40.3467', 'long': '-30.1310'}, 'city': 'Cullman', 'street': 'Frances Ct', 'number': 86, 'zipcode': '29567-1452'}, 'id': 3, 'email': 'kevin@gmail.com', 'username': 'kevinryan', 'password': 'kev02937@', 'name': {'firstname': 'kevin', 'lastname': 'ryan'}, 'phone': '1-567-094-1345', '__v': 0}, {'address': {'geolocation': {'lat': '50.3467', 'long': '-20.1310'}, 'city': 'San Antonio', 'street': 'Hunters Creek Dr', 'number': 6454, 'zipcode': '98234-1734'}, 'id': 4, 'email': 'don@gmail.com', 'username': 'donero', 'password': 'ewedon', 'name': {'firstname': 'don', 'lastname': 'romer'}, 'phone': '1-765-789-6734', '__v': 0}, {'address': {'geolocation': {'lat': '40.3467', 'long': '-40.1310'}, 'city': 'san Antonio', 'street': 'adams St', 'number': 245, 'zipcode': '80796-1234'}, 'id': 5, 'email': 'derek@gmail.com', 'username': 'derek', 'password': 'jklg*_56', 'name': {'firstname': 'derek', 'lastname': 'powell'}, 'phone': '1-956-001-1945', '__v': 0}, {'address': {'geolocation': {'lat': '20.1677', 'long': '-10.6789'}, 'city': 'el paso', 'street': 'prospect st', 'number': 124, 'zipcode': '12346-0456'}, 'id': 6, 'email': 'david_r@gmail.com', 'username': 'david_r', 'password': '3478*#54', 'name': {'firstname': 'david', 'lastname': 'russell'}, 'phone': '1-678-345-9856', '__v': 0}, {'address': {'geolocation': {'lat': '10.3456', 'long': '20.6419'}, 'city': 'fresno', 'street': 'saddle st', 'number': 1342, 'zipcode': '96378-0245'}, 'id': 7, 'email': 'miriam@gmail.com', 'username': 'snyder', 'password': 'f238&@*$', 'name': {'firstname': 'miriam', 'lastname': 'snyder'}, 'phone': '1-123-943-0563', '__v': 0}, {'address': {'geolocation': {'lat': '50.3456', 'long': '10.6419'}, 'city': 'mesa', 'street': 'vally view ln', 'number': 1342, 'zipcode': '96378-0245'}, 'id': 8, 'email': 'william@gmail.com', 'username': 'hopkins', 'password': 'William56$hj', 'name': {'firstname': 'william', 'lastname': 'hopkins'}, 'phone': '1-478-001-0890', '__v': 0}, {'address': {'geolocation': {'lat': '40.12456', 'long': '20.5419'}, 'city': 'miami', 'street': 'avondale ave', 'number': 345, 'zipcode': '96378-0245'}, 'id': 9, 'email': 'kate@gmail.com', 'username': 'kate_h', 'password': 'kfejk@*_', 'name': {'firstname': 'kate', 'lastname': 'hale'}, 'phone': '1-678-456-1934', '__v': 0}, {'address': {'geolocation': {'lat': '30.24788', 'long': '-20.545419'}, 'city': 'fort wayne', 'street': 'oak lawn ave', 'number': 526, 'zipcode': '10256-4532'}, 'id': 10, 'email': 'jimmie@gmail.com', 'username': 'jimmie_k', 'password': 'klein*#%*', 'name': {'firstname': 'jimmie', 'lastname': 'klein'}, 'phone': '1-104-001-4567', '__v': 0}]\n"
     ]
    }
   ],
   "source": [
    "response_users = requests.get('https://fakestoreapi.com/users')\n",
    "data_sample_users = response_users.json()\n",
    "print(data_sample_users)\n"
   ]
  },
  {
   "cell_type": "markdown",
   "id": "cdd4f455",
   "metadata": {},
   "source": [
    "## Criação do dataframe"
   ]
  },
  {
   "cell_type": "code",
   "execution_count": 16,
   "id": "cda61d8f",
   "metadata": {},
   "outputs": [
    {
     "data": {
      "text/html": [
       "<div>\n",
       "<style scoped>\n",
       "    .dataframe tbody tr th:only-of-type {\n",
       "        vertical-align: middle;\n",
       "    }\n",
       "\n",
       "    .dataframe tbody tr th {\n",
       "        vertical-align: top;\n",
       "    }\n",
       "\n",
       "    .dataframe thead th {\n",
       "        text-align: right;\n",
       "    }\n",
       "</style>\n",
       "<table border=\"1\" class=\"dataframe\">\n",
       "  <thead>\n",
       "    <tr style=\"text-align: right;\">\n",
       "      <th></th>\n",
       "      <th>address</th>\n",
       "      <th>id</th>\n",
       "      <th>email</th>\n",
       "      <th>username</th>\n",
       "      <th>password</th>\n",
       "      <th>name</th>\n",
       "      <th>phone</th>\n",
       "      <th>__v</th>\n",
       "    </tr>\n",
       "  </thead>\n",
       "  <tbody>\n",
       "    <tr>\n",
       "      <th>0</th>\n",
       "      <td>{'geolocation': {'lat': '-37.3159', 'long': '8...</td>\n",
       "      <td>1</td>\n",
       "      <td>john@gmail.com</td>\n",
       "      <td>johnd</td>\n",
       "      <td>m38rmF$</td>\n",
       "      <td>{'firstname': 'john', 'lastname': 'doe'}</td>\n",
       "      <td>1-570-236-7033</td>\n",
       "      <td>0</td>\n",
       "    </tr>\n",
       "    <tr>\n",
       "      <th>1</th>\n",
       "      <td>{'geolocation': {'lat': '-37.3159', 'long': '8...</td>\n",
       "      <td>2</td>\n",
       "      <td>morrison@gmail.com</td>\n",
       "      <td>mor_2314</td>\n",
       "      <td>83r5^_</td>\n",
       "      <td>{'firstname': 'david', 'lastname': 'morrison'}</td>\n",
       "      <td>1-570-236-7033</td>\n",
       "      <td>0</td>\n",
       "    </tr>\n",
       "    <tr>\n",
       "      <th>2</th>\n",
       "      <td>{'geolocation': {'lat': '40.3467', 'long': '-3...</td>\n",
       "      <td>3</td>\n",
       "      <td>kevin@gmail.com</td>\n",
       "      <td>kevinryan</td>\n",
       "      <td>kev02937@</td>\n",
       "      <td>{'firstname': 'kevin', 'lastname': 'ryan'}</td>\n",
       "      <td>1-567-094-1345</td>\n",
       "      <td>0</td>\n",
       "    </tr>\n",
       "    <tr>\n",
       "      <th>3</th>\n",
       "      <td>{'geolocation': {'lat': '50.3467', 'long': '-2...</td>\n",
       "      <td>4</td>\n",
       "      <td>don@gmail.com</td>\n",
       "      <td>donero</td>\n",
       "      <td>ewedon</td>\n",
       "      <td>{'firstname': 'don', 'lastname': 'romer'}</td>\n",
       "      <td>1-765-789-6734</td>\n",
       "      <td>0</td>\n",
       "    </tr>\n",
       "    <tr>\n",
       "      <th>4</th>\n",
       "      <td>{'geolocation': {'lat': '40.3467', 'long': '-4...</td>\n",
       "      <td>5</td>\n",
       "      <td>derek@gmail.com</td>\n",
       "      <td>derek</td>\n",
       "      <td>jklg*_56</td>\n",
       "      <td>{'firstname': 'derek', 'lastname': 'powell'}</td>\n",
       "      <td>1-956-001-1945</td>\n",
       "      <td>0</td>\n",
       "    </tr>\n",
       "  </tbody>\n",
       "</table>\n",
       "</div>"
      ],
      "text/plain": [
       "                                             address  id               email  \\\n",
       "0  {'geolocation': {'lat': '-37.3159', 'long': '8...   1      john@gmail.com   \n",
       "1  {'geolocation': {'lat': '-37.3159', 'long': '8...   2  morrison@gmail.com   \n",
       "2  {'geolocation': {'lat': '40.3467', 'long': '-3...   3     kevin@gmail.com   \n",
       "3  {'geolocation': {'lat': '50.3467', 'long': '-2...   4       don@gmail.com   \n",
       "4  {'geolocation': {'lat': '40.3467', 'long': '-4...   5     derek@gmail.com   \n",
       "\n",
       "    username   password                                            name  \\\n",
       "0      johnd    m38rmF$        {'firstname': 'john', 'lastname': 'doe'}   \n",
       "1   mor_2314     83r5^_  {'firstname': 'david', 'lastname': 'morrison'}   \n",
       "2  kevinryan  kev02937@      {'firstname': 'kevin', 'lastname': 'ryan'}   \n",
       "3     donero     ewedon       {'firstname': 'don', 'lastname': 'romer'}   \n",
       "4      derek   jklg*_56    {'firstname': 'derek', 'lastname': 'powell'}   \n",
       "\n",
       "            phone  __v  \n",
       "0  1-570-236-7033    0  \n",
       "1  1-570-236-7033    0  \n",
       "2  1-567-094-1345    0  \n",
       "3  1-765-789-6734    0  \n",
       "4  1-956-001-1945    0  "
      ]
     },
     "execution_count": 16,
     "metadata": {},
     "output_type": "execute_result"
    }
   ],
   "source": [
    "df = pd.DataFrame(data_sample_users)\n",
    "df.head()"
   ]
  },
  {
   "cell_type": "markdown",
   "id": "e44e011a",
   "metadata": {},
   "source": [
    "## PRODUTOS\n"
   ]
  },
  {
   "cell_type": "code",
   "execution_count": 17,
   "id": "9dfa270c",
   "metadata": {},
   "outputs": [],
   "source": [
    "response_products = requests.get('https://fakestoreapi.com/products')\n",
    "data_sample_products = response_products.json()\n",
    "\n"
   ]
  },
  {
   "cell_type": "code",
   "execution_count": 19,
   "id": "74286d31",
   "metadata": {},
   "outputs": [
    {
     "data": {
      "text/html": [
       "<div>\n",
       "<style scoped>\n",
       "    .dataframe tbody tr th:only-of-type {\n",
       "        vertical-align: middle;\n",
       "    }\n",
       "\n",
       "    .dataframe tbody tr th {\n",
       "        vertical-align: top;\n",
       "    }\n",
       "\n",
       "    .dataframe thead th {\n",
       "        text-align: right;\n",
       "    }\n",
       "</style>\n",
       "<table border=\"1\" class=\"dataframe\">\n",
       "  <thead>\n",
       "    <tr style=\"text-align: right;\">\n",
       "      <th></th>\n",
       "      <th>id</th>\n",
       "      <th>title</th>\n",
       "      <th>price</th>\n",
       "      <th>description</th>\n",
       "      <th>category</th>\n",
       "      <th>image</th>\n",
       "      <th>rating</th>\n",
       "    </tr>\n",
       "  </thead>\n",
       "  <tbody>\n",
       "    <tr>\n",
       "      <th>0</th>\n",
       "      <td>1</td>\n",
       "      <td>Fjallraven - Foldsack No. 1 Backpack, Fits 15 ...</td>\n",
       "      <td>109.95</td>\n",
       "      <td>Your perfect pack for everyday use and walks i...</td>\n",
       "      <td>men's clothing</td>\n",
       "      <td>https://fakestoreapi.com/img/81fPKd-2AYL._AC_S...</td>\n",
       "      <td>{'rate': 3.9, 'count': 120}</td>\n",
       "    </tr>\n",
       "    <tr>\n",
       "      <th>1</th>\n",
       "      <td>2</td>\n",
       "      <td>Mens Casual Premium Slim Fit T-Shirts</td>\n",
       "      <td>22.30</td>\n",
       "      <td>Slim-fitting style, contrast raglan long sleev...</td>\n",
       "      <td>men's clothing</td>\n",
       "      <td>https://fakestoreapi.com/img/71-3HjGNDUL._AC_S...</td>\n",
       "      <td>{'rate': 4.1, 'count': 259}</td>\n",
       "    </tr>\n",
       "    <tr>\n",
       "      <th>2</th>\n",
       "      <td>3</td>\n",
       "      <td>Mens Cotton Jacket</td>\n",
       "      <td>55.99</td>\n",
       "      <td>great outerwear jackets for Spring/Autumn/Wint...</td>\n",
       "      <td>men's clothing</td>\n",
       "      <td>https://fakestoreapi.com/img/71li-ujtlUL._AC_U...</td>\n",
       "      <td>{'rate': 4.7, 'count': 500}</td>\n",
       "    </tr>\n",
       "    <tr>\n",
       "      <th>3</th>\n",
       "      <td>4</td>\n",
       "      <td>Mens Casual Slim Fit</td>\n",
       "      <td>15.99</td>\n",
       "      <td>The color could be slightly different between ...</td>\n",
       "      <td>men's clothing</td>\n",
       "      <td>https://fakestoreapi.com/img/71YXzeOuslL._AC_U...</td>\n",
       "      <td>{'rate': 2.1, 'count': 430}</td>\n",
       "    </tr>\n",
       "    <tr>\n",
       "      <th>4</th>\n",
       "      <td>5</td>\n",
       "      <td>John Hardy Women's Legends Naga Gold &amp; Silver ...</td>\n",
       "      <td>695.00</td>\n",
       "      <td>From our Legends Collection, the Naga was insp...</td>\n",
       "      <td>jewelery</td>\n",
       "      <td>https://fakestoreapi.com/img/71pWzhdJNwL._AC_U...</td>\n",
       "      <td>{'rate': 4.6, 'count': 400}</td>\n",
       "    </tr>\n",
       "  </tbody>\n",
       "</table>\n",
       "</div>"
      ],
      "text/plain": [
       "   id                                              title   price  \\\n",
       "0   1  Fjallraven - Foldsack No. 1 Backpack, Fits 15 ...  109.95   \n",
       "1   2             Mens Casual Premium Slim Fit T-Shirts    22.30   \n",
       "2   3                                 Mens Cotton Jacket   55.99   \n",
       "3   4                               Mens Casual Slim Fit   15.99   \n",
       "4   5  John Hardy Women's Legends Naga Gold & Silver ...  695.00   \n",
       "\n",
       "                                         description        category  \\\n",
       "0  Your perfect pack for everyday use and walks i...  men's clothing   \n",
       "1  Slim-fitting style, contrast raglan long sleev...  men's clothing   \n",
       "2  great outerwear jackets for Spring/Autumn/Wint...  men's clothing   \n",
       "3  The color could be slightly different between ...  men's clothing   \n",
       "4  From our Legends Collection, the Naga was insp...        jewelery   \n",
       "\n",
       "                                               image  \\\n",
       "0  https://fakestoreapi.com/img/81fPKd-2AYL._AC_S...   \n",
       "1  https://fakestoreapi.com/img/71-3HjGNDUL._AC_S...   \n",
       "2  https://fakestoreapi.com/img/71li-ujtlUL._AC_U...   \n",
       "3  https://fakestoreapi.com/img/71YXzeOuslL._AC_U...   \n",
       "4  https://fakestoreapi.com/img/71pWzhdJNwL._AC_U...   \n",
       "\n",
       "                        rating  \n",
       "0  {'rate': 3.9, 'count': 120}  \n",
       "1  {'rate': 4.1, 'count': 259}  \n",
       "2  {'rate': 4.7, 'count': 500}  \n",
       "3  {'rate': 2.1, 'count': 430}  \n",
       "4  {'rate': 4.6, 'count': 400}  "
      ]
     },
     "execution_count": 19,
     "metadata": {},
     "output_type": "execute_result"
    }
   ],
   "source": [
    "#transforma em tabela\n",
    "df_produtos = pd.DataFrame(data_sample_products)\n",
    "\n",
    "df_produtos.head()"
   ]
  },
  {
   "cell_type": "markdown",
   "id": "f2c5ea26",
   "metadata": {},
   "source": [
    "## CARRINHO"
   ]
  },
  {
   "cell_type": "code",
   "execution_count": 20,
   "id": "88ffeeb0",
   "metadata": {},
   "outputs": [
    {
     "data": {
      "text/plain": [
       "[{'id': 1,\n",
       "  'userId': 1,\n",
       "  'date': '2020-03-02T00:00:00.000Z',\n",
       "  'products': [{'productId': 1, 'quantity': 4},\n",
       "   {'productId': 2, 'quantity': 1},\n",
       "   {'productId': 3, 'quantity': 6}],\n",
       "  '__v': 0},\n",
       " {'id': 2,\n",
       "  'userId': 1,\n",
       "  'date': '2020-01-02T00:00:00.000Z',\n",
       "  'products': [{'productId': 2, 'quantity': 4},\n",
       "   {'productId': 1, 'quantity': 10},\n",
       "   {'productId': 5, 'quantity': 2}],\n",
       "  '__v': 0},\n",
       " {'id': 3,\n",
       "  'userId': 2,\n",
       "  'date': '2020-03-01T00:00:00.000Z',\n",
       "  'products': [{'productId': 1, 'quantity': 2},\n",
       "   {'productId': 9, 'quantity': 1}],\n",
       "  '__v': 0},\n",
       " {'id': 4,\n",
       "  'userId': 3,\n",
       "  'date': '2020-01-01T00:00:00.000Z',\n",
       "  'products': [{'productId': 1, 'quantity': 4}],\n",
       "  '__v': 0},\n",
       " {'id': 5,\n",
       "  'userId': 3,\n",
       "  'date': '2020-03-01T00:00:00.000Z',\n",
       "  'products': [{'productId': 7, 'quantity': 1},\n",
       "   {'productId': 8, 'quantity': 1}],\n",
       "  '__v': 0},\n",
       " {'id': 6,\n",
       "  'userId': 4,\n",
       "  'date': '2020-03-01T00:00:00.000Z',\n",
       "  'products': [{'productId': 10, 'quantity': 2},\n",
       "   {'productId': 12, 'quantity': 3}],\n",
       "  '__v': 0},\n",
       " {'id': 7,\n",
       "  'userId': 8,\n",
       "  'date': '2020-03-01T00:00:00.000Z',\n",
       "  'products': [{'productId': 18, 'quantity': 1}],\n",
       "  '__v': 0}]"
      ]
     },
     "execution_count": 20,
     "metadata": {},
     "output_type": "execute_result"
    }
   ],
   "source": [
    "response_carts = requests.get('https://fakestoreapi.com/carts')\n",
    "data_sample_carts = response_carts.json()\n",
    "\n",
    "data_sample_carts"
   ]
  },
  {
   "cell_type": "code",
   "execution_count": 21,
   "id": "4b46325d",
   "metadata": {},
   "outputs": [
    {
     "data": {
      "text/html": [
       "<div>\n",
       "<style scoped>\n",
       "    .dataframe tbody tr th:only-of-type {\n",
       "        vertical-align: middle;\n",
       "    }\n",
       "\n",
       "    .dataframe tbody tr th {\n",
       "        vertical-align: top;\n",
       "    }\n",
       "\n",
       "    .dataframe thead th {\n",
       "        text-align: right;\n",
       "    }\n",
       "</style>\n",
       "<table border=\"1\" class=\"dataframe\">\n",
       "  <thead>\n",
       "    <tr style=\"text-align: right;\">\n",
       "      <th></th>\n",
       "      <th>id</th>\n",
       "      <th>userId</th>\n",
       "      <th>date</th>\n",
       "      <th>products</th>\n",
       "      <th>__v</th>\n",
       "    </tr>\n",
       "  </thead>\n",
       "  <tbody>\n",
       "    <tr>\n",
       "      <th>0</th>\n",
       "      <td>1</td>\n",
       "      <td>1</td>\n",
       "      <td>2020-03-02T00:00:00.000Z</td>\n",
       "      <td>[{'productId': 1, 'quantity': 4}, {'productId'...</td>\n",
       "      <td>0</td>\n",
       "    </tr>\n",
       "    <tr>\n",
       "      <th>1</th>\n",
       "      <td>2</td>\n",
       "      <td>1</td>\n",
       "      <td>2020-01-02T00:00:00.000Z</td>\n",
       "      <td>[{'productId': 2, 'quantity': 4}, {'productId'...</td>\n",
       "      <td>0</td>\n",
       "    </tr>\n",
       "    <tr>\n",
       "      <th>2</th>\n",
       "      <td>3</td>\n",
       "      <td>2</td>\n",
       "      <td>2020-03-01T00:00:00.000Z</td>\n",
       "      <td>[{'productId': 1, 'quantity': 2}, {'productId'...</td>\n",
       "      <td>0</td>\n",
       "    </tr>\n",
       "    <tr>\n",
       "      <th>3</th>\n",
       "      <td>4</td>\n",
       "      <td>3</td>\n",
       "      <td>2020-01-01T00:00:00.000Z</td>\n",
       "      <td>[{'productId': 1, 'quantity': 4}]</td>\n",
       "      <td>0</td>\n",
       "    </tr>\n",
       "    <tr>\n",
       "      <th>4</th>\n",
       "      <td>5</td>\n",
       "      <td>3</td>\n",
       "      <td>2020-03-01T00:00:00.000Z</td>\n",
       "      <td>[{'productId': 7, 'quantity': 1}, {'productId'...</td>\n",
       "      <td>0</td>\n",
       "    </tr>\n",
       "  </tbody>\n",
       "</table>\n",
       "</div>"
      ],
      "text/plain": [
       "   id  userId                      date  \\\n",
       "0   1       1  2020-03-02T00:00:00.000Z   \n",
       "1   2       1  2020-01-02T00:00:00.000Z   \n",
       "2   3       2  2020-03-01T00:00:00.000Z   \n",
       "3   4       3  2020-01-01T00:00:00.000Z   \n",
       "4   5       3  2020-03-01T00:00:00.000Z   \n",
       "\n",
       "                                            products  __v  \n",
       "0  [{'productId': 1, 'quantity': 4}, {'productId'...    0  \n",
       "1  [{'productId': 2, 'quantity': 4}, {'productId'...    0  \n",
       "2  [{'productId': 1, 'quantity': 2}, {'productId'...    0  \n",
       "3                  [{'productId': 1, 'quantity': 4}]    0  \n",
       "4  [{'productId': 7, 'quantity': 1}, {'productId'...    0  "
      ]
     },
     "execution_count": 21,
     "metadata": {},
     "output_type": "execute_result"
    }
   ],
   "source": [
    "df_carts = pd.DataFrame(data_sample_carts)\n",
    "\n",
    "df_carts.head()"
   ]
  },
  {
   "cell_type": "markdown",
   "id": "83016d16",
   "metadata": {},
   "source": [
    "# DADOS\n"
   ]
  },
  {
   "cell_type": "markdown",
   "id": "9650c0f0",
   "metadata": {},
   "source": [
    "## CAMADA BRONZE - Salvar dados brutos"
   ]
  },
  {
   "cell_type": "code",
   "execution_count": 22,
   "id": "a9d3a19d",
   "metadata": {},
   "outputs": [
    {
     "name": "stdout",
     "output_type": "stream",
     "text": [
      "✅ Dados salvos na camada BRONZE!\n"
     ]
    }
   ],
   "source": [
    "import os\n",
    "\n",
    "# Cria pastas se não existirem\n",
    "os.makedirs('dados/bronze', exist_ok=True)\n",
    "\n",
    "# Salva dados brutos em JSON\n",
    "df_produtos.to_json('dados/bronze/products_raw.json', orient='records', indent=2)\n",
    "df.to_json('dados/bronze/users_raw.json', orient='records', indent=2)\n",
    "df_carts.to_json('dados/bronze/carts_raw.json', orient='records', indent=2)\n",
    "\n",
    "print('✅ Dados salvos na camada BRONZE!')"
   ]
  },
  {
   "cell_type": "markdown",
   "id": "456e54da",
   "metadata": {},
   "source": [
    "## CAMADA SILVER - Limpar e organizar\n"
   ]
  },
  {
   "cell_type": "markdown",
   "id": "da83511a",
   "metadata": {},
   "source": [
    "Nova seção no notebook"
   ]
  },
  {
   "cell_type": "code",
   "execution_count": null,
   "id": "6f937d31",
   "metadata": {},
   "outputs": [
    {
     "name": "stdout",
     "output_type": "stream",
     "text": [
      "✅ Dados salvos na camada SILVER!\n"
     ]
    }
   ],
   "source": [
    "\n",
    "os.makedirs('dados/silver', exist_ok=True)\n",
    "\n",
    "# Limpar produtos (exemplo simples)\n",
    "df_produtos_limpo = df_produtos.copy()\n",
    "df_produtos_limpo['price'] = df_produtos_limpo['price'].round(2)\n",
    "df_produtos_limpo['title'] = df_produtos_limpo['title'].str.title()\n",
    "\n",
    "# Salvar\n",
    "df_produtos_limpo.to_csv('dados/silver/products_clean.csv', index=False)\n",
    "\n",
    "print('✅ Dados salvos na camada SILVER!')"
   ]
  },
  {
   "cell_type": "markdown",
   "id": "4c510d6c",
   "metadata": {},
   "source": [
    "## Limpar Users "
   ]
  },
  {
   "cell_type": "code",
   "execution_count": 24,
   "id": "86a3be99",
   "metadata": {},
   "outputs": [
    {
     "name": "stdout",
     "output_type": "stream",
     "text": [
      "✅ Usuários limpos!\n"
     ]
    }
   ],
   "source": [
    "#limpar usuarios\n",
    "df_users_limpo = df.copy()\n",
    "df_users_limpo['email'] = df_users_limpo['email'].str.lower()\n",
    "df_users_limpo['username'] = df_users_limpo['username'].str.lower()\n",
    "\n",
    "# Salvar\n",
    "df_users_limpo.to_csv('dados/silver/users_clean.csv', index=False)\n",
    "print('✅ Usuários limpos!')\n"
   ]
  },
  {
   "cell_type": "markdown",
   "id": "74c1bcc5",
   "metadata": {},
   "source": [
    "## Limpar carts"
   ]
  },
  {
   "cell_type": "code",
   "execution_count": 25,
   "id": "1b7434f7",
   "metadata": {},
   "outputs": [
    {
     "name": "stdout",
     "output_type": "stream",
     "text": [
      "✅ Carrinhos limpos!\n"
     ]
    }
   ],
   "source": [
    "#limpar carrinho\n",
    "df_carts_limpo = df_carts.copy()\n",
    "df_carts_limpo['date'] = pd.to_datetime(df_carts_limpo['date'])\n",
    "\n",
    "# Salvar\n",
    "df_carts_limpo.to_csv('dados/silver/carts_clean.csv', index=False)\n",
    "\n",
    "print('✅ Carrinhos limpos!')"
   ]
  },
  {
   "cell_type": "markdown",
   "id": "7b45cdf5",
   "metadata": {},
   "source": [
    "#  CAMADA GOLD - Análises"
   ]
  },
  {
   "cell_type": "markdown",
   "id": "6a2bce15",
   "metadata": {},
   "source": [
    "## Produtos por categoria quant/preMed\n",
    "\n"
   ]
  },
  {
   "cell_type": "code",
   "execution_count": null,
   "id": "9f06f501",
   "metadata": {},
   "outputs": [],
   "source": [
    "#analise 1\n",
    "\n",
    "os.makedirs('dados/gold', exist_ok=True)\n",
    "\n",
    "# Análise: Produtos por categoria\n",
    "produtos_por_categoria = df_produtos_limpo.groupby('category').agg({\n",
    "    'id': 'count',\n",
    "    'price': 'mean'\n",
    "}).rename(columns={'id': 'quantidade', 'price': 'preco_medio'})\n",
    "\n",
    "# Salvar análise\n",
    "produtos_por_categoria.to_csv('dados/gold/produtos_por_categoria.csv')\n",
    "\n",
    "print('✅ Análise salva na camada GOLD!')\n",
    "produtos_por_categoria"
   ]
  },
  {
   "cell_type": "markdown",
   "id": "bee9e251",
   "metadata": {},
   "source": [
    "## 5 produtos mais caros"
   ]
  },
  {
   "cell_type": "code",
   "execution_count": null,
   "id": "bf064030",
   "metadata": {},
   "outputs": [],
   "source": [
    "# Análise 2: Top 5 produtos mais caros\n",
    "top_5_caros = df_produtos_limpo.nlargest(5, 'price')[['title', 'price', 'category']]\n",
    "top_5_caros.to_csv('dados/gold/top_5_produtos_caros.csv', index=False)\n",
    "\n",
    "print('💎 Top 5 produtos mais caros:')\n",
    "top_5_caros"
   ]
  },
  {
   "cell_type": "markdown",
   "id": "8df7c6b9",
   "metadata": {},
   "source": [
    "## Preço medio categoria"
   ]
  },
  {
   "cell_type": "code",
   "execution_count": null,
   "id": "c6185f36",
   "metadata": {},
   "outputs": [],
   "source": [
    "# Análise 3: Preço médio por categoria\n",
    "preco_medio_categoria = df_produtos_limpo.groupby('category')['price'].mean().round(2)\n",
    "preco_medio_categoria.to_csv('dados/gold/preco_medio_por_categoria.csv')\n",
    "\n",
    "print('💎 Preço médio por categoria:')\n",
    "preco_medio_categoria"
   ]
  },
  {
   "cell_type": "markdown",
   "id": "47946adc",
   "metadata": {},
   "source": [
    "## total de usuarios\n"
   ]
  },
  {
   "cell_type": "code",
   "execution_count": null,
   "id": "8773522d",
   "metadata": {},
   "outputs": [],
   "source": [
    "# Análise 4: Total de usuários\n",
    "total_usuarios = len(df_users_limpo)\n",
    "\n",
    "resumo_geral = {\n",
    "    'total_produtos': len(df_produtos_limpo),\n",
    "    'total_usuarios': total_usuarios,\n",
    "    'total_carrinhos': len(df_carts_limpo),\n",
    "    'preco_medio_produtos': df_produtos_limpo['price'].mean().round(2)\n",
    "}\n",
    "\n",
    "# Salvar resumo\n",
    "pd.Series(resumo_geral).to_csv('dados/gold/resumo_geral.csv')\n",
    "\n",
    "print('💎 Resumo geral:')\n",
    "resumo_geral"
   ]
  },
  {
   "cell_type": "markdown",
   "id": "c412c47f",
   "metadata": {},
   "source": [
    "## Análises com JOIN (juntando dados)\n"
   ]
  },
  {
   "cell_type": "markdown",
   "id": "11edd2e1",
   "metadata": {},
   "source": [
    "##  Explodir carrinhos\n"
   ]
  },
  {
   "cell_type": "code",
   "execution_count": null,
   "id": "bc440860",
   "metadata": {},
   "outputs": [],
   "source": [
    "# Cada carrinho tem vários produtos, vamos separar\n",
    "df_carts_explodido = df_carts_limpo.explode('products').reset_index(drop=True)\n",
    "\n",
    "# Extrair productId e quantity de dentro do dicionário\n",
    "df_carts_explodido['productId'] = df_carts_explodido['products'].apply(lambda x: x['productId'])\n",
    "df_carts_explodido['quantity'] = df_carts_explodido['products'].apply(lambda x: x['quantity'])\n",
    "\n",
    "print(f'✅ Carrinhos explodidos: {len(df_carts_explodido)} linhas')\n",
    "df_carts_explodido.head()"
   ]
  },
  {
   "cell_type": "markdown",
   "id": "b8b46af8",
   "metadata": {},
   "source": [
    "## Juntar carrinhos com produtos"
   ]
  },
  {
   "cell_type": "code",
   "execution_count": null,
   "id": "4010d16d",
   "metadata": {},
   "outputs": [],
   "source": [
    "# JOIN: carrinhos + produtos\n",
    "df_vendas = df_carts_explodido.merge(\n",
    "    df_produtos_limpo[['id', 'title', 'price', 'category']], \n",
    "    left_on='productId', \n",
    "    right_on='id',\n",
    "    how='left'\n",
    ")\n",
    "\n",
    "# Calcular valor total de cada item\n",
    "df_vendas['total'] = df_vendas['price'] * df_vendas['quantity']\n",
    "\n",
    "print(f'✅ Dados de vendas criados: {len(df_vendas)} linhas')\n",
    "df_vendas.head(10)"
   ]
  },
  {
   "cell_type": "markdown",
   "id": "e864855a",
   "metadata": {},
   "source": [
    "## Produtos mais vendidos"
   ]
  },
  {
   "cell_type": "code",
   "execution_count": null,
   "id": "96f801f0",
   "metadata": {},
   "outputs": [],
   "source": [
    "# Agrupar por produto\n",
    "produtos_mais_vendidos = df_vendas.groupby('title').agg({\n",
    "    'quantity': 'sum',\n",
    "    'total': 'sum'\n",
    "}).sort_values('quantity', ascending=False).head(10)\n",
    "\n",
    "# Salvar\n",
    "produtos_mais_vendidos.to_csv('dados/gold/produtos_mais_vendidos.csv')\n",
    "\n",
    "print('💎 TOP 10 produtos mais vendidos:')\n",
    "produtos_mais_vendidos"
   ]
  },
  {
   "cell_type": "markdown",
   "id": "6e210bc0",
   "metadata": {},
   "source": [
    "## Faturamento por categoria"
   ]
  },
  {
   "cell_type": "code",
   "execution_count": null,
   "id": "cc283618",
   "metadata": {},
   "outputs": [],
   "source": [
    "# Faturamento por categoria\n",
    "faturamento_categoria = df_vendas.groupby('category')['total'].sum().sort_values(ascending=False)\n",
    "\n",
    "# Salvar\n",
    "faturamento_categoria.to_csv('dados/gold/faturamento_por_categoria.csv')\n",
    "\n",
    "print('💎 Faturamento por categoria:')\n",
    "faturamento_categoria"
   ]
  },
  {
   "cell_type": "markdown",
   "id": "8f4b1064",
   "metadata": {},
   "source": [
    "## Análise de usuários (quanto cada um gastou)"
   ]
  },
  {
   "cell_type": "code",
   "execution_count": null,
   "id": "4e139c4a",
   "metadata": {},
   "outputs": [],
   "source": [
    "# Juntar vendas com usuários\n",
    "df_vendas_usuarios = df_vendas.merge(\n",
    "    df_users_limpo[['id', 'username', 'email']], \n",
    "    left_on='userId', \n",
    "    right_on='id',\n",
    "    how='left'\n",
    ")\n",
    "\n",
    "# Calcular gasto total por usuário\n",
    "gasto_por_usuario = df_vendas_usuarios.groupby('username')['total'].sum().sort_values(ascending=False).head(10)\n",
    "\n",
    "# Salvar\n",
    "gasto_por_usuario.to_csv('dados/gold/top_10_usuarios_gastadores.csv')\n",
    "\n",
    "print('💎 TOP 10 usuários que mais gastaram:')\n",
    "gasto_por_usuario"
   ]
  },
  {
   "cell_type": "markdown",
   "id": "d0ace710",
   "metadata": {},
   "source": [
    "## Resumo final do negócio"
   ]
  },
  {
   "cell_type": "code",
   "execution_count": 43,
   "id": "cc8bffbb",
   "metadata": {},
   "outputs": [
    {
     "name": "stdout",
     "output_type": "stream",
     "text": [
      "💎 RESUMO DO NEGÓCIO:\n",
      "total_vendas_reais: 4691.27\n",
      "ticket_medio: 938.25\n",
      "produtos_vendidos: 42\n",
      "carrinhos_finalizados: 5\n",
      "usuarios_ativos: 5\n"
     ]
    }
   ],
   "source": [
    "# Métricas principais\n",
    "resumo_negocio = {\n",
    "    'total_vendas_reais': df_vendas['total'].sum().round(2),\n",
    "    'ticket_medio': (df_vendas['total'].sum() / df_vendas['userId'].nunique()).round(2),\n",
    "    'produtos_vendidos': int(df_vendas['quantity'].sum()),\n",
    "    'carrinhos_finalizados': df_vendas['userId'].nunique(),\n",
    "    'usuarios_ativos': df_vendas['userId'].nunique()\n",
    "}\n",
    "\n",
    "# Salvar\n",
    "pd.Series(resumo_negocio).to_csv('dados/gold/resumo_negocio.csv')\n",
    "\n",
    "print('💎 RESUMO DO NEGÓCIO:')\n",
    "for key, value in resumo_negocio.items():\n",
    "    print(f'{key}: {value}')"
   ]
  },
  {
   "cell_type": "markdown",
   "id": "4e8d932b",
   "metadata": {},
   "source": []
  }
 ],
 "metadata": {
  "kernelspec": {
   "display_name": "Python 3",
   "language": "python",
   "name": "python3"
  },
  "language_info": {
   "codemirror_mode": {
    "name": "ipython",
    "version": 3
   },
   "file_extension": ".py",
   "mimetype": "text/x-python",
   "name": "python",
   "nbconvert_exporter": "python",
   "pygments_lexer": "ipython3",
   "version": "3.13.3"
  }
 },
 "nbformat": 4,
 "nbformat_minor": 5
}
